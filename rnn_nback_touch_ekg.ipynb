{
 "cells": [
  {
   "cell_type": "code",
   "execution_count": 1,
   "metadata": {
    "collapsed": false
   },
   "outputs": [
    {
     "name": "stderr",
     "output_type": "stream",
     "text": [
      "Using TensorFlow backend.\n"
     ]
    }
   ],
   "source": [
    "from __future__ import print_function\n",
    "import os\n",
    "import numpy as np\n",
    "from numpy import newaxis\n",
    "from sklearn import preprocessing\n",
    "np.random.seed(1337)\n",
    "\n",
    "import keras\n",
    "from keras.utils.np_utils import to_categorical\n",
    "from keras.layers import Dense, Input, Flatten\n",
    "from keras.layers import Dropout\n",
    "from keras.models import Model,Sequential\n",
    "from keras.layers import LSTM\n",
    "import sys\n",
    "\n",
    "import pandas as pd\n",
    "import random"
   ]
  },
  {
   "cell_type": "markdown",
   "metadata": {},
   "source": [
    "# Reading in data"
   ]
  },
  {
   "cell_type": "code",
   "execution_count": 2,
   "metadata": {
    "collapsed": false
   },
   "outputs": [
    {
     "name": "stdout",
     "output_type": "stream",
     "text": [
      "Data read started...\n",
      "Data read finished.\n",
      "(313, 15)\n"
     ]
    }
   ],
   "source": [
    "print(\"Data read started...\")\n",
    "data = pd.read_csv(\"result9.csv\")\n",
    "data = data.as_matrix()\n",
    "print (\"Data read finished.\")\n",
    "\n",
    "touch_only = 'false'\n",
    "touch_heart = 'false'\n",
    "\n",
    "print(data.shape)"
   ]
  },
  {
   "cell_type": "markdown",
   "metadata": {},
   "source": [
    "# Delete irrelevant data"
   ]
  },
  {
   "cell_type": "code",
   "execution_count": 3,
   "metadata": {
    "collapsed": false
   },
   "outputs": [
    {
     "name": "stdout",
     "output_type": "stream",
     "text": [
      " one:  98  two:  104  three:  111\n"
     ]
    }
   ],
   "source": [
    "data = np.delete(data, 13, 1)    \n",
    "data = np.delete(data, 12, 1)   \n",
    "data = np.delete(data, 11, 1)  \n",
    "data = np.delete(data, 4, 1)    \n",
    "data = np.delete(data, 3, 1)     \n",
    "data = np.delete(data, 2, 1)   \n",
    "data = np.delete(data, 1, 1)   \n",
    "data.shape\n",
    "\n",
    "if(touch_only == 'true'):\n",
    "    data = np.delete(data, 7, 1)   \n",
    "    data = np.delete(data, 3, 1)    \n",
    "    data = np.delete(data, 2, 1)   \n",
    "\n",
    "if(touch_heart == 'true'):\n",
    "    data = np.delete(data, 7, 1)   \n",
    "    \n",
    "data.shape\n",
    "\n",
    "one = 0\n",
    "two = 0\n",
    "three = 0\n",
    "\n",
    "for i in range(len(data)):\n",
    "    if (data[i, 0] == 'NbackSym1'):\n",
    "        one = one + 1\n",
    "    if (data[i, 0] == 'NbackSym2'):\n",
    "        two = two + 1\n",
    "    if (data[i, 0] == 'NbackSym3'):\n",
    "        three = three + 1\n",
    "\n",
    "print(' one: ', one, ' two: ', two, ' three: ', three)"
   ]
  },
  {
   "cell_type": "markdown",
   "metadata": {},
   "source": [
    "# Dictionary for the levels"
   ]
  },
  {
   "cell_type": "code",
   "execution_count": 4,
   "metadata": {
    "collapsed": true
   },
   "outputs": [],
   "source": [
    "level=[\"NbackSym1\",\"NbackSym2\",\"NbackSym3\"]\n",
    "level2int = dict((p, i) for i, p in enumerate(level))\n",
    "int2level = dict((i, p) for i, p in enumerate(level))"
   ]
  },
  {
   "cell_type": "markdown",
   "metadata": {},
   "source": [
    "# Z normalize"
   ]
  },
  {
   "cell_type": "code",
   "execution_count": 5,
   "metadata": {
    "collapsed": false
   },
   "outputs": [
    {
     "name": "stderr",
     "output_type": "stream",
     "text": [
      "/home/amoro/anaconda2/lib/python2.7/site-packages/sklearn/utils/validation.py:420: DataConversionWarning: Data with input dtype object was converted to float64 by the scale function.\n",
      "  warnings.warn(msg, DataConversionWarning)\n",
      "/home/amoro/anaconda2/lib/python2.7/site-packages/sklearn/utils/validation.py:420: DataConversionWarning: Data with input dtype object was converted to float64 by the scale function.\n",
      "  warnings.warn(msg, DataConversionWarning)\n",
      "/home/amoro/anaconda2/lib/python2.7/site-packages/sklearn/utils/validation.py:420: DataConversionWarning: Data with input dtype object was converted to float64 by the scale function.\n",
      "  warnings.warn(msg, DataConversionWarning)\n",
      "/home/amoro/anaconda2/lib/python2.7/site-packages/sklearn/utils/validation.py:420: DataConversionWarning: Data with input dtype object was converted to float64 by the scale function.\n",
      "  warnings.warn(msg, DataConversionWarning)\n",
      "/home/amoro/anaconda2/lib/python2.7/site-packages/sklearn/utils/validation.py:420: DataConversionWarning: Data with input dtype object was converted to float64 by the scale function.\n",
      "  warnings.warn(msg, DataConversionWarning)\n",
      "/home/amoro/anaconda2/lib/python2.7/site-packages/sklearn/utils/validation.py:420: DataConversionWarning: Data with input dtype object was converted to float64 by the scale function.\n",
      "  warnings.warn(msg, DataConversionWarning)\n",
      "/home/amoro/anaconda2/lib/python2.7/site-packages/sklearn/utils/validation.py:420: DataConversionWarning: Data with input dtype object was converted to float64 by the scale function.\n",
      "  warnings.warn(msg, DataConversionWarning)\n"
     ]
    }
   ],
   "source": [
    "for i in range (1,data.shape[1]):\n",
    "    data[:, i] = preprocessing.scale(data[:, i])\n",
    "\n",
    "back1 = np.zeros((one,data.shape[1]-1))\n",
    "back2 = np.zeros((two,data.shape[1]-1))\n",
    "back3 = np.zeros((three,data.shape[1]-1))\n",
    "j = 0\n",
    "k = 0\n",
    "l = 0\n",
    "\n",
    "for i in range(len(data)):\n",
    "    if (data[i, 0] == 'NbackSym1'):\n",
    "        back1[j] = data[i, 1:]\n",
    "        j = j+1\n",
    "    if (data[i, 0] == 'NbackSym2'):\n",
    "        back2[k] = data[i, 1:]\n",
    "        k = k+1\n",
    "    if (data[i, 0] == 'NbackSym3'):\n",
    "        back3[l] = data[i, 1:]\n",
    "        l = l+1\n",
    "\n",
    "y_data = data[:, 0]\n",
    "for i in range(len(data)):\n",
    "    y_data[i] = level2int[y_data[i]]"
   ]
  },
  {
   "cell_type": "markdown",
   "metadata": {},
   "source": [
    "# One-hot encoding"
   ]
  },
  {
   "cell_type": "code",
   "execution_count": 6,
   "metadata": {
    "collapsed": true
   },
   "outputs": [],
   "source": [
    "from sklearn.preprocessing import OneHotEncoder\n",
    "\n",
    "ohe = OneHotEncoder()\n",
    "one_hot = ohe.fit_transform(y_data.reshape(-1,1)).toarray()"
   ]
  },
  {
   "cell_type": "markdown",
   "metadata": {},
   "source": [
    "# Group data for recurrent network"
   ]
  },
  {
   "cell_type": "code",
   "execution_count": 7,
   "metadata": {
    "collapsed": true
   },
   "outputs": [],
   "source": [
    "window = 10\n",
    "null = np.array([0,0,0,0,0,0,0])\n",
    "\n",
    "for i in range(window-1):\n",
    "        back1 = np.vstack([back1, null])\n",
    "        back2 = np.vstack([back2, null])\n",
    "        back3 = np.vstack([back3, null])\n",
    "        \n",
    "for i in range(window-1):\n",
    "        back1 = np.vstack([null, back1])\n",
    "        back2 = np.vstack([null, back2])\n",
    "        back3 = np.vstack([null, back3])\n",
    "\n",
    "data_length = len(back1) + window - 1 + len(back2) + window - 1 + len(back3) + window - 1\n",
    "\n",
    "x_data = np.zeros((data_length,window, back1.shape[1]))         # final input data for the network\n",
    "y_one_hot = np.zeros((data_length,one_hot.shape[1]))             # to store one-hot data groupped\n",
    "\n",
    "\n",
    "for i in range(len(back1)-window):\n",
    "    for j in range(window):\n",
    "        x_data[i, j, :] = back1[i+j]\n",
    "    y_one_hot[i] = [0,0,1]\n",
    "    \n",
    "\n",
    "index = 0\n",
    "for i in range(len(back1)-window, len(back1)-window+ len(back2)-window):\n",
    "    for j in range(window):\n",
    "        x_data[i, j, :] = back2[index+j]\n",
    "    y_one_hot[i] = [0,1,0]\n",
    "    index = index+1\n",
    "\n",
    "index = 0\n",
    "for i in range(len(back1)-window+ len(back2)-window, len(back1)-window + len(back2)-window + len(back3)-window):\n",
    "    for j in range(window):\n",
    "        x_data[i, j, :] = back3[index+j]\n",
    "    y_one_hot[i] = [1,0,0]\n",
    "        \n",
    "    index = index+1"
   ]
  },
  {
   "cell_type": "markdown",
   "metadata": {},
   "source": [
    "# Shuffle data"
   ]
  },
  {
   "cell_type": "code",
   "execution_count": 8,
   "metadata": {
    "collapsed": true
   },
   "outputs": [],
   "source": [
    "indices = np.arange(x_data.shape[0])\n",
    "np.random.shuffle(indices)\n",
    "\n",
    "x_data = x_data[indices]\n",
    "y_one_hot = y_one_hot[indices]"
   ]
  },
  {
   "cell_type": "markdown",
   "metadata": {},
   "source": [
    "# Divide into train, validation and test data"
   ]
  },
  {
   "cell_type": "code",
   "execution_count": 9,
   "metadata": {
    "collapsed": false
   },
   "outputs": [
    {
     "name": "stdout",
     "output_type": "stream",
     "text": [
      "(275, 10, 7) (275, 3) (59, 10, 7) (59, 3) (60, 10, 7) (60, 3)\n"
     ]
    }
   ],
   "source": [
    "len_data = len(x_data)\n",
    "\n",
    "nb_test = int(len_data*0.15)\n",
    "nb_validation = int(len_data*0.15)\n",
    "nb_train = int(len_data*0.7)\n",
    "\n",
    "end_valid = nb_train+nb_validation\n",
    "\n",
    "x_train = x_data[0:nb_train]\n",
    "y_train = y_one_hot[0:nb_train]\n",
    "\n",
    "x_valid = x_data[nb_train:end_valid]\n",
    "y_valid = y_one_hot[nb_train:end_valid]\n",
    "\n",
    "x_test = x_data[end_valid:]\n",
    "y_test = y_one_hot[end_valid:]\n",
    "\n",
    "print(x_train.shape, y_train.shape, x_valid.shape, y_valid.shape, x_test.shape, y_test.shape)"
   ]
  },
  {
   "cell_type": "markdown",
   "metadata": {},
   "source": [
    "# Build the net"
   ]
  },
  {
   "cell_type": "code",
   "execution_count": 10,
   "metadata": {
    "collapsed": false
   },
   "outputs": [],
   "source": [
    "model = Sequential()\n",
    "\n",
    "earlyStopping=keras.callbacks.EarlyStopping(monitor='val_loss', patience=15, verbose=0, mode='auto')\n",
    "\n",
    "model.add(LSTM(64, input_dim=back1.shape[1], input_length=window, return_sequences=True))\n",
    "model.add(Dropout(0.5))\n",
    "    \n",
    "\n",
    "model.add(LSTM(40,return_sequences=False))\n",
    "model.add(Dropout(0.25))\n",
    "\n",
    "model.add(Dense(output_dim=y_one_hot.shape[1], activation='softmax'))\n",
    "\n",
    "model.compile(loss='categorical_crossentropy',\n",
    "              optimizer='adam',\n",
    "              metrics=['acc'])"
   ]
  },
  {
   "cell_type": "code",
   "execution_count": 11,
   "metadata": {
    "collapsed": false,
    "scrolled": true
   },
   "outputs": [
    {
     "name": "stdout",
     "output_type": "stream",
     "text": [
      "Train on 275 samples, validate on 59 samples\n",
      "Epoch 1/200\n",
      "275/275 [==============================] - 2s - loss: 0.8522 - acc: 0.5345 - val_loss: 0.7182 - val_acc: 0.4746\n",
      "Epoch 2/200\n",
      "275/275 [==============================] - 0s - loss: 0.6804 - acc: 0.6364 - val_loss: 0.6092 - val_acc: 0.5763\n",
      "Epoch 3/200\n",
      "275/275 [==============================] - 0s - loss: 0.5727 - acc: 0.6582 - val_loss: 0.5226 - val_acc: 0.6102\n",
      "Epoch 4/200\n",
      "275/275 [==============================] - 0s - loss: 0.4985 - acc: 0.6800 - val_loss: 0.4420 - val_acc: 0.7119\n",
      "Epoch 5/200\n",
      "275/275 [==============================] - 0s - loss: 0.4030 - acc: 0.7491 - val_loss: 0.3762 - val_acc: 0.7458\n",
      "Epoch 6/200\n",
      "275/275 [==============================] - 0s - loss: 0.3412 - acc: 0.8109 - val_loss: 0.3097 - val_acc: 0.7627\n",
      "Epoch 7/200\n",
      "275/275 [==============================] - 0s - loss: 0.2791 - acc: 0.8109 - val_loss: 0.2476 - val_acc: 0.7797\n",
      "Epoch 8/200\n",
      "275/275 [==============================] - 0s - loss: 0.2255 - acc: 0.8400 - val_loss: 0.1923 - val_acc: 0.7797\n",
      "Epoch 9/200\n",
      "275/275 [==============================] - 0s - loss: 0.1799 - acc: 0.9273 - val_loss: 0.1475 - val_acc: 0.9661\n",
      "Epoch 10/200\n",
      "275/275 [==============================] - 0s - loss: 0.1374 - acc: 0.9709 - val_loss: 0.1102 - val_acc: 0.9831\n",
      "Epoch 11/200\n",
      "275/275 [==============================] - 0s - loss: 0.1106 - acc: 0.9782 - val_loss: 0.0890 - val_acc: 0.9831\n",
      "Epoch 12/200\n",
      "275/275 [==============================] - 0s - loss: 0.1001 - acc: 0.9782 - val_loss: 0.0705 - val_acc: 0.9831\n",
      "Epoch 13/200\n",
      "275/275 [==============================] - 0s - loss: 0.0717 - acc: 0.9927 - val_loss: 0.0598 - val_acc: 0.9831\n",
      "Epoch 14/200\n",
      "275/275 [==============================] - 0s - loss: 0.0595 - acc: 0.9855 - val_loss: 0.0555 - val_acc: 1.0000\n",
      "Epoch 15/200\n",
      "275/275 [==============================] - 0s - loss: 0.0546 - acc: 0.9818 - val_loss: 0.0431 - val_acc: 1.0000\n",
      "Epoch 16/200\n",
      "275/275 [==============================] - 0s - loss: 0.0447 - acc: 0.9891 - val_loss: 0.0370 - val_acc: 1.0000\n",
      "Epoch 17/200\n",
      "275/275 [==============================] - 0s - loss: 0.0403 - acc: 0.9818 - val_loss: 0.0324 - val_acc: 1.0000\n",
      "Epoch 18/200\n",
      "275/275 [==============================] - 0s - loss: 0.0386 - acc: 0.9709 - val_loss: 0.0296 - val_acc: 1.0000\n",
      "Epoch 19/200\n",
      "275/275 [==============================] - 0s - loss: 0.0341 - acc: 0.9491 - val_loss: 0.0276 - val_acc: 1.0000\n",
      "Epoch 20/200\n",
      "275/275 [==============================] - 0s - loss: 0.0295 - acc: 0.9600 - val_loss: 0.0284 - val_acc: 1.0000\n",
      "Epoch 21/200\n",
      "275/275 [==============================] - 0s - loss: 0.0298 - acc: 0.9964 - val_loss: 0.0264 - val_acc: 1.0000\n",
      "Epoch 22/200\n",
      "275/275 [==============================] - 0s - loss: 0.0245 - acc: 0.9891 - val_loss: 0.0245 - val_acc: 1.0000\n",
      "Epoch 23/200\n",
      "275/275 [==============================] - 0s - loss: 0.0245 - acc: 0.9927 - val_loss: 0.0245 - val_acc: 1.0000\n",
      "Epoch 24/200\n",
      "275/275 [==============================] - 0s - loss: 0.0230 - acc: 0.9964 - val_loss: 0.0228 - val_acc: 1.0000\n",
      "Epoch 25/200\n",
      "275/275 [==============================] - 0s - loss: 0.0234 - acc: 1.0000 - val_loss: 0.0213 - val_acc: 1.0000\n",
      "Epoch 26/200\n",
      "275/275 [==============================] - 0s - loss: 0.0212 - acc: 0.9745 - val_loss: 0.0199 - val_acc: 1.0000\n",
      "Epoch 27/200\n",
      "275/275 [==============================] - 0s - loss: 0.0176 - acc: 0.9818 - val_loss: 0.0193 - val_acc: 1.0000\n",
      "Epoch 28/200\n",
      "275/275 [==============================] - 0s - loss: 0.0200 - acc: 0.9855 - val_loss: 0.0208 - val_acc: 1.0000\n",
      "Epoch 29/200\n",
      "275/275 [==============================] - 0s - loss: 0.0171 - acc: 1.0000 - val_loss: 0.0202 - val_acc: 1.0000\n",
      "Epoch 30/200\n",
      "275/275 [==============================] - 0s - loss: 0.0180 - acc: 0.9927 - val_loss: 0.0199 - val_acc: 1.0000\n",
      "Epoch 31/200\n",
      "275/275 [==============================] - 0s - loss: 0.0169 - acc: 0.9709 - val_loss: 0.0420 - val_acc: 0.9831\n",
      "Epoch 32/200\n",
      "275/275 [==============================] - 0s - loss: 0.0175 - acc: 0.9309 - val_loss: 0.0755 - val_acc: 0.7966\n",
      "Epoch 33/200\n",
      "275/275 [==============================] - 0s - loss: 0.0153 - acc: 0.9491 - val_loss: 0.0387 - val_acc: 0.9831\n",
      "Epoch 34/200\n",
      "275/275 [==============================] - 0s - loss: 0.0175 - acc: 0.9891 - val_loss: 0.0205 - val_acc: 1.0000\n",
      "Epoch 35/200\n",
      "275/275 [==============================] - 0s - loss: 0.0130 - acc: 0.9964 - val_loss: 0.0171 - val_acc: 1.0000\n",
      "Epoch 36/200\n",
      "275/275 [==============================] - 0s - loss: 0.0116 - acc: 0.9964 - val_loss: 0.0172 - val_acc: 1.0000\n",
      "Epoch 37/200\n",
      "275/275 [==============================] - 0s - loss: 0.0130 - acc: 0.9891 - val_loss: 0.0190 - val_acc: 1.0000\n",
      "Epoch 38/200\n",
      "275/275 [==============================] - 0s - loss: 0.0117 - acc: 0.9964 - val_loss: 0.0174 - val_acc: 1.0000\n",
      "Epoch 39/200\n",
      "275/275 [==============================] - 0s - loss: 0.0139 - acc: 0.9818 - val_loss: 0.0151 - val_acc: 1.0000\n",
      "Epoch 40/200\n",
      "275/275 [==============================] - 0s - loss: 0.0115 - acc: 0.9382 - val_loss: 0.0148 - val_acc: 1.0000\n",
      "Epoch 41/200\n",
      "275/275 [==============================] - 0s - loss: 0.0106 - acc: 0.9855 - val_loss: 0.0155 - val_acc: 1.0000\n",
      "Epoch 42/200\n",
      "275/275 [==============================] - 0s - loss: 0.0133 - acc: 0.9273 - val_loss: 0.0149 - val_acc: 0.8305\n",
      "Epoch 43/200\n",
      "275/275 [==============================] - 0s - loss: 0.0115 - acc: 0.8909 - val_loss: 0.0161 - val_acc: 0.8305\n",
      "Epoch 44/200\n",
      "275/275 [==============================] - 0s - loss: 0.0111 - acc: 0.9018 - val_loss: 0.0176 - val_acc: 1.0000\n",
      "Epoch 45/200\n",
      "275/275 [==============================] - 0s - loss: 0.0110 - acc: 0.9636 - val_loss: 0.0186 - val_acc: 1.0000\n",
      "Epoch 46/200\n",
      "275/275 [==============================] - 0s - loss: 0.0085 - acc: 0.9927 - val_loss: 0.0193 - val_acc: 1.0000\n",
      "Epoch 47/200\n",
      "275/275 [==============================] - 0s - loss: 0.0115 - acc: 0.9964 - val_loss: 0.0158 - val_acc: 1.0000\n",
      "Epoch 48/200\n",
      "275/275 [==============================] - 0s - loss: 0.0099 - acc: 0.9236 - val_loss: 0.0142 - val_acc: 0.8305\n",
      "Epoch 49/200\n",
      "275/275 [==============================] - 0s - loss: 0.0067 - acc: 0.8873 - val_loss: 0.0161 - val_acc: 0.8305\n",
      "Epoch 50/200\n",
      "275/275 [==============================] - 0s - loss: 0.0107 - acc: 0.9164 - val_loss: 0.0173 - val_acc: 1.0000\n",
      "Epoch 51/200\n",
      "275/275 [==============================] - 0s - loss: 0.0079 - acc: 0.9927 - val_loss: 0.0183 - val_acc: 1.0000\n",
      "Epoch 52/200\n",
      "275/275 [==============================] - 0s - loss: 0.0076 - acc: 0.9927 - val_loss: 0.0176 - val_acc: 1.0000\n",
      "Epoch 53/200\n",
      "275/275 [==============================] - 0s - loss: 0.0081 - acc: 0.9855 - val_loss: 0.0175 - val_acc: 1.0000\n",
      "Epoch 54/200\n",
      "275/275 [==============================] - 0s - loss: 0.0062 - acc: 0.9745 - val_loss: 0.0194 - val_acc: 0.9831\n",
      "Epoch 55/200\n",
      "275/275 [==============================] - 0s - loss: 0.0181 - acc: 0.9745 - val_loss: 0.0145 - val_acc: 1.0000\n",
      "Epoch 56/200\n",
      "275/275 [==============================] - 0s - loss: 0.0490 - acc: 0.9891 - val_loss: 0.0334 - val_acc: 0.9831\n",
      "Epoch 57/200\n",
      "275/275 [==============================] - 0s - loss: 0.0195 - acc: 0.9927 - val_loss: 0.0211 - val_acc: 0.9831\n",
      "Epoch 58/200\n",
      "275/275 [==============================] - 0s - loss: 0.0221 - acc: 0.9964 - val_loss: 0.0206 - val_acc: 0.9831\n",
      "Epoch 59/200\n",
      "275/275 [==============================] - 0s - loss: 0.0107 - acc: 1.0000 - val_loss: 0.0196 - val_acc: 1.0000\n",
      "Epoch 60/200\n",
      "275/275 [==============================] - 0s - loss: 0.0091 - acc: 0.9927 - val_loss: 0.0374 - val_acc: 0.9831\n",
      "Epoch 61/200\n",
      "275/275 [==============================] - 0s - loss: 0.0076 - acc: 0.9564 - val_loss: 0.0559 - val_acc: 0.9831\n",
      "Epoch 62/200\n",
      "275/275 [==============================] - 0s - loss: 0.0079 - acc: 0.9745 - val_loss: 0.0660 - val_acc: 0.9661\n",
      "Epoch 63/200\n",
      "275/275 [==============================] - 0s - loss: 0.0085 - acc: 0.9855 - val_loss: 0.0592 - val_acc: 0.9831\n",
      "Epoch 64/200\n",
      "275/275 [==============================] - 0s - loss: 0.0084 - acc: 0.9927 - val_loss: 0.0501 - val_acc: 0.9831\n"
     ]
    },
    {
     "data": {
      "text/plain": [
       "<keras.callbacks.History at 0x7f2c1ef9ffd0>"
      ]
     },
     "execution_count": 11,
     "metadata": {},
     "output_type": "execute_result"
    }
   ],
   "source": [
    "model.fit(x_train, y_train, nb_epoch=200, shuffle=True, callbacks=[earlyStopping], \n",
    "          validation_data = (x_valid, y_valid), batch_size=50)"
   ]
  },
  {
   "cell_type": "code",
   "execution_count": 12,
   "metadata": {
    "collapsed": false
   },
   "outputs": [
    {
     "name": "stdout",
     "output_type": "stream",
     "text": [
      "60/60 [==============================] - 0s     \n"
     ]
    },
    {
     "data": {
      "text/plain": [
       "[0.0046613254186619697, 1.0]"
      ]
     },
     "execution_count": 12,
     "metadata": {},
     "output_type": "execute_result"
    }
   ],
   "source": [
    "model.evaluate(x_test, y_test, batch_size=50)"
   ]
  },
  {
   "cell_type": "code",
   "execution_count": 13,
   "metadata": {
    "collapsed": false
   },
   "outputs": [
    {
     "name": "stdout",
     "output_type": "stream",
     "text": [
      "60/60 [==============================] - 0s     \n",
      "[0 0 1 0 1 0 0 0 0 1 0 0 0 2 0 0 0 0 0 1 1 0 1 2 2 0 2 1 0 2 0 0 1 1 2 0 1\n",
      " 0 2 0 2 0 2 0 1 1 2 0 0 2 2 2 0 0 0 1 0 0 1 1]\n",
      "32/60 [===============>..............] - ETA: 0s                precision    recall  f1-score   support\n",
      "\n",
      "class 0(0back)       1.00      1.00      1.00        32\n",
      "class 1(1back)       1.00      1.00      1.00        15\n",
      "class 2(2back)       1.00      1.00      1.00        13\n",
      "\n",
      "   avg / total       1.00      1.00      1.00        60\n",
      "\n",
      "[[32  0  0]\n",
      " [ 0 15  0]\n",
      " [ 0  0 13]]\n"
     ]
    }
   ],
   "source": [
    "from sklearn.metrics import classification_report,confusion_matrix\n",
    "\n",
    "y_pred = model.predict_classes(x_test)\n",
    "print(y_pred)\n",
    "\n",
    "p=model.predict_proba(x_test)\n",
    "\n",
    "target_names = ['class 0(0back)', 'class 1(1back)', 'class 2(2back)', 'class3(3back)']\n",
    "print(classification_report(np.argmax(y_test,axis=1), y_pred,target_names=target_names))\n",
    "print(confusion_matrix(np.argmax(y_test,axis=1), y_pred))"
   ]
  },
  {
   "cell_type": "code",
   "execution_count": 14,
   "metadata": {
    "collapsed": false
   },
   "outputs": [
    {
     "data": {
      "image/svg+xml": [
       "<svg height=\"476pt\" viewBox=\"0.00 0.00 308.00 476.00\" width=\"308pt\" xmlns=\"http://www.w3.org/2000/svg\" xmlns:xlink=\"http://www.w3.org/1999/xlink\">\n",
       "<g class=\"graph\" id=\"graph0\" transform=\"scale(1 1) rotate(0) translate(4 472)\">\n",
       "<title>G</title>\n",
       "<polygon fill=\"white\" points=\"-4,4 -4,-472 304,-472 304,4 -4,4\" stroke=\"none\"/>\n",
       "<!-- 139827896058000 -->\n",
       "<g class=\"node\" id=\"node1\"><title>139827896058000</title>\n",
       "<polygon fill=\"none\" points=\"-0.5,-421 -0.5,-467 300.5,-467 300.5,-421 -0.5,-421\" stroke=\"black\"/>\n",
       "<text font-family=\"Times,serif\" font-size=\"14.00\" text-anchor=\"middle\" x=\"77.5\" y=\"-440.3\">lstm_input_1: InputLayer</text>\n",
       "<polyline fill=\"none\" points=\"155.5,-421 155.5,-467 \" stroke=\"black\"/>\n",
       "<text font-family=\"Times,serif\" font-size=\"14.00\" text-anchor=\"middle\" x=\"183\" y=\"-451.8\">input:</text>\n",
       "<polyline fill=\"none\" points=\"155.5,-444 210.5,-444 \" stroke=\"black\"/>\n",
       "<text font-family=\"Times,serif\" font-size=\"14.00\" text-anchor=\"middle\" x=\"183\" y=\"-428.8\">output:</text>\n",
       "<polyline fill=\"none\" points=\"210.5,-421 210.5,-467 \" stroke=\"black\"/>\n",
       "<text font-family=\"Times,serif\" font-size=\"14.00\" text-anchor=\"middle\" x=\"255.5\" y=\"-451.8\">(None, 10, 7)</text>\n",
       "<polyline fill=\"none\" points=\"210.5,-444 300.5,-444 \" stroke=\"black\"/>\n",
       "<text font-family=\"Times,serif\" font-size=\"14.00\" text-anchor=\"middle\" x=\"255.5\" y=\"-428.8\">(None, 10, 7)</text>\n",
       "</g>\n",
       "<!-- 139827896058064 -->\n",
       "<g class=\"node\" id=\"node2\"><title>139827896058064</title>\n",
       "<polygon fill=\"none\" points=\"25,-337 25,-383 275,-383 275,-337 25,-337\" stroke=\"black\"/>\n",
       "<text font-family=\"Times,serif\" font-size=\"14.00\" text-anchor=\"middle\" x=\"74\" y=\"-356.3\">lstm_1: LSTM</text>\n",
       "<polyline fill=\"none\" points=\"123,-337 123,-383 \" stroke=\"black\"/>\n",
       "<text font-family=\"Times,serif\" font-size=\"14.00\" text-anchor=\"middle\" x=\"150.5\" y=\"-367.8\">input:</text>\n",
       "<polyline fill=\"none\" points=\"123,-360 178,-360 \" stroke=\"black\"/>\n",
       "<text font-family=\"Times,serif\" font-size=\"14.00\" text-anchor=\"middle\" x=\"150.5\" y=\"-344.8\">output:</text>\n",
       "<polyline fill=\"none\" points=\"178,-337 178,-383 \" stroke=\"black\"/>\n",
       "<text font-family=\"Times,serif\" font-size=\"14.00\" text-anchor=\"middle\" x=\"226.5\" y=\"-367.8\">(None, 10, 7)</text>\n",
       "<polyline fill=\"none\" points=\"178,-360 275,-360 \" stroke=\"black\"/>\n",
       "<text font-family=\"Times,serif\" font-size=\"14.00\" text-anchor=\"middle\" x=\"226.5\" y=\"-344.8\">(None, 10, 64)</text>\n",
       "</g>\n",
       "<!-- 139827896058000&#45;&gt;139827896058064 -->\n",
       "<g class=\"edge\" id=\"edge1\"><title>139827896058000-&gt;139827896058064</title>\n",
       "<path d=\"M150,-420.593C150,-412.118 150,-402.297 150,-393.104\" fill=\"none\" stroke=\"black\"/>\n",
       "<polygon fill=\"black\" points=\"153.5,-393.096 150,-383.096 146.5,-393.096 153.5,-393.096\" stroke=\"black\"/>\n",
       "</g>\n",
       "<!-- 139827896058192 -->\n",
       "<g class=\"node\" id=\"node3\"><title>139827896058192</title>\n",
       "<polygon fill=\"none\" points=\"11.5,-253 11.5,-299 288.5,-299 288.5,-253 11.5,-253\" stroke=\"black\"/>\n",
       "<text font-family=\"Times,serif\" font-size=\"14.00\" text-anchor=\"middle\" x=\"74\" y=\"-272.3\">dropout_1: Dropout</text>\n",
       "<polyline fill=\"none\" points=\"136.5,-253 136.5,-299 \" stroke=\"black\"/>\n",
       "<text font-family=\"Times,serif\" font-size=\"14.00\" text-anchor=\"middle\" x=\"164\" y=\"-283.8\">input:</text>\n",
       "<polyline fill=\"none\" points=\"136.5,-276 191.5,-276 \" stroke=\"black\"/>\n",
       "<text font-family=\"Times,serif\" font-size=\"14.00\" text-anchor=\"middle\" x=\"164\" y=\"-260.8\">output:</text>\n",
       "<polyline fill=\"none\" points=\"191.5,-253 191.5,-299 \" stroke=\"black\"/>\n",
       "<text font-family=\"Times,serif\" font-size=\"14.00\" text-anchor=\"middle\" x=\"240\" y=\"-283.8\">(None, 10, 64)</text>\n",
       "<polyline fill=\"none\" points=\"191.5,-276 288.5,-276 \" stroke=\"black\"/>\n",
       "<text font-family=\"Times,serif\" font-size=\"14.00\" text-anchor=\"middle\" x=\"240\" y=\"-260.8\">(None, 10, 64)</text>\n",
       "</g>\n",
       "<!-- 139827896058064&#45;&gt;139827896058192 -->\n",
       "<g class=\"edge\" id=\"edge2\"><title>139827896058064-&gt;139827896058192</title>\n",
       "<path d=\"M150,-336.593C150,-328.118 150,-318.297 150,-309.104\" fill=\"none\" stroke=\"black\"/>\n",
       "<polygon fill=\"black\" points=\"153.5,-309.096 150,-299.096 146.5,-309.096 153.5,-309.096\" stroke=\"black\"/>\n",
       "</g>\n",
       "<!-- 139827511507088 -->\n",
       "<g class=\"node\" id=\"node4\"><title>139827511507088</title>\n",
       "<polygon fill=\"none\" points=\"25,-169 25,-215 275,-215 275,-169 25,-169\" stroke=\"black\"/>\n",
       "<text font-family=\"Times,serif\" font-size=\"14.00\" text-anchor=\"middle\" x=\"74\" y=\"-188.3\">lstm_2: LSTM</text>\n",
       "<polyline fill=\"none\" points=\"123,-169 123,-215 \" stroke=\"black\"/>\n",
       "<text font-family=\"Times,serif\" font-size=\"14.00\" text-anchor=\"middle\" x=\"150.5\" y=\"-199.8\">input:</text>\n",
       "<polyline fill=\"none\" points=\"123,-192 178,-192 \" stroke=\"black\"/>\n",
       "<text font-family=\"Times,serif\" font-size=\"14.00\" text-anchor=\"middle\" x=\"150.5\" y=\"-176.8\">output:</text>\n",
       "<polyline fill=\"none\" points=\"178,-169 178,-215 \" stroke=\"black\"/>\n",
       "<text font-family=\"Times,serif\" font-size=\"14.00\" text-anchor=\"middle\" x=\"226.5\" y=\"-199.8\">(None, 10, 64)</text>\n",
       "<polyline fill=\"none\" points=\"178,-192 275,-192 \" stroke=\"black\"/>\n",
       "<text font-family=\"Times,serif\" font-size=\"14.00\" text-anchor=\"middle\" x=\"226.5\" y=\"-176.8\">(None, 40)</text>\n",
       "</g>\n",
       "<!-- 139827896058192&#45;&gt;139827511507088 -->\n",
       "<g class=\"edge\" id=\"edge3\"><title>139827896058192-&gt;139827511507088</title>\n",
       "<path d=\"M150,-252.593C150,-244.118 150,-234.297 150,-225.104\" fill=\"none\" stroke=\"black\"/>\n",
       "<polygon fill=\"black\" points=\"153.5,-225.096 150,-215.096 146.5,-225.096 153.5,-225.096\" stroke=\"black\"/>\n",
       "</g>\n",
       "<!-- 139827510488592 -->\n",
       "<g class=\"node\" id=\"node5\"><title>139827510488592</title>\n",
       "<polygon fill=\"none\" points=\"22,-85 22,-131 278,-131 278,-85 22,-85\" stroke=\"black\"/>\n",
       "<text font-family=\"Times,serif\" font-size=\"14.00\" text-anchor=\"middle\" x=\"84.5\" y=\"-104.3\">dropout_2: Dropout</text>\n",
       "<polyline fill=\"none\" points=\"147,-85 147,-131 \" stroke=\"black\"/>\n",
       "<text font-family=\"Times,serif\" font-size=\"14.00\" text-anchor=\"middle\" x=\"174.5\" y=\"-115.8\">input:</text>\n",
       "<polyline fill=\"none\" points=\"147,-108 202,-108 \" stroke=\"black\"/>\n",
       "<text font-family=\"Times,serif\" font-size=\"14.00\" text-anchor=\"middle\" x=\"174.5\" y=\"-92.8\">output:</text>\n",
       "<polyline fill=\"none\" points=\"202,-85 202,-131 \" stroke=\"black\"/>\n",
       "<text font-family=\"Times,serif\" font-size=\"14.00\" text-anchor=\"middle\" x=\"240\" y=\"-115.8\">(None, 40)</text>\n",
       "<polyline fill=\"none\" points=\"202,-108 278,-108 \" stroke=\"black\"/>\n",
       "<text font-family=\"Times,serif\" font-size=\"14.00\" text-anchor=\"middle\" x=\"240\" y=\"-92.8\">(None, 40)</text>\n",
       "</g>\n",
       "<!-- 139827511507088&#45;&gt;139827510488592 -->\n",
       "<g class=\"edge\" id=\"edge4\"><title>139827511507088-&gt;139827510488592</title>\n",
       "<path d=\"M150,-168.593C150,-160.118 150,-150.297 150,-141.104\" fill=\"none\" stroke=\"black\"/>\n",
       "<polygon fill=\"black\" points=\"153.5,-141.096 150,-131.096 146.5,-141.096 153.5,-141.096\" stroke=\"black\"/>\n",
       "</g>\n",
       "<!-- 139827509553168 -->\n",
       "<g class=\"node\" id=\"node6\"><title>139827509553168</title>\n",
       "<polygon fill=\"none\" points=\"33.5,-1 33.5,-47 266.5,-47 266.5,-1 33.5,-1\" stroke=\"black\"/>\n",
       "<text font-family=\"Times,serif\" font-size=\"14.00\" text-anchor=\"middle\" x=\"84.5\" y=\"-20.3\">dense_1: Dense</text>\n",
       "<polyline fill=\"none\" points=\"135.5,-1 135.5,-47 \" stroke=\"black\"/>\n",
       "<text font-family=\"Times,serif\" font-size=\"14.00\" text-anchor=\"middle\" x=\"163\" y=\"-31.8\">input:</text>\n",
       "<polyline fill=\"none\" points=\"135.5,-24 190.5,-24 \" stroke=\"black\"/>\n",
       "<text font-family=\"Times,serif\" font-size=\"14.00\" text-anchor=\"middle\" x=\"163\" y=\"-8.8\">output:</text>\n",
       "<polyline fill=\"none\" points=\"190.5,-1 190.5,-47 \" stroke=\"black\"/>\n",
       "<text font-family=\"Times,serif\" font-size=\"14.00\" text-anchor=\"middle\" x=\"228.5\" y=\"-31.8\">(None, 40)</text>\n",
       "<polyline fill=\"none\" points=\"190.5,-24 266.5,-24 \" stroke=\"black\"/>\n",
       "<text font-family=\"Times,serif\" font-size=\"14.00\" text-anchor=\"middle\" x=\"228.5\" y=\"-8.8\">(None, 3)</text>\n",
       "</g>\n",
       "<!-- 139827510488592&#45;&gt;139827509553168 -->\n",
       "<g class=\"edge\" id=\"edge5\"><title>139827510488592-&gt;139827509553168</title>\n",
       "<path d=\"M150,-84.5931C150,-76.1177 150,-66.2974 150,-57.104\" fill=\"none\" stroke=\"black\"/>\n",
       "<polygon fill=\"black\" points=\"153.5,-57.0958 150,-47.0959 146.5,-57.0959 153.5,-57.0958\" stroke=\"black\"/>\n",
       "</g>\n",
       "</g>\n",
       "</svg>"
      ],
      "text/plain": [
       "<IPython.core.display.SVG object>"
      ]
     },
     "metadata": {},
     "output_type": "display_data"
    }
   ],
   "source": [
    "from IPython.display import Image, display, SVG\n",
    "from keras.utils.visualize_util import model_to_dot\n",
    "\n",
    "# Show the model in ipython notebook\n",
    "figure = SVG(model_to_dot(model, show_shapes=True).create(prog='dot', format='svg'))\n",
    "display(figure)\n",
    "\n",
    "# Save the model as png file\n",
    "from keras.utils.visualize_util import plot\n",
    "plot(model, to_file='model_rnn.png', show_shapes=True)"
   ]
  }
 ],
 "metadata": {
  "anaconda-cloud": {},
  "kernelspec": {
   "display_name": "Python [conda root]",
   "language": "python",
   "name": "conda-root-py"
  },
  "language_info": {
   "codemirror_mode": {
    "name": "ipython",
    "version": 2
   },
   "file_extension": ".py",
   "mimetype": "text/x-python",
   "name": "python",
   "nbconvert_exporter": "python",
   "pygments_lexer": "ipython2",
   "version": "2.7.12"
  }
 },
 "nbformat": 4,
 "nbformat_minor": 1
}
